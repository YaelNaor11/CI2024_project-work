{
  "nbformat": 4,
  "nbformat_minor": 0,
  "metadata": {
    "colab": {
      "provenance": []
    },
    "kernelspec": {
      "name": "python3",
      "display_name": "Python 3"
    },
    "language_info": {
      "name": "python"
    }
  },
  "cells": [
    {
      "cell_type": "code",
      "source": [
        "import numpy as np\n",
        "import math\n",
        "import random\n",
        "import copy\n",
        "import pdb"
      ],
      "metadata": {
        "id": "zKVSgDNW8a3u"
      },
      "execution_count": 18,
      "outputs": []
    },
    {
      "cell_type": "markdown",
      "source": [
        "## class Node"
      ],
      "metadata": {
        "id": "91tiGR0_6I2U"
      }
    },
    {
      "cell_type": "code",
      "source": [
        "class Node:\n",
        "  def __init__(self, node_type ,value, successors=None,children=None, name=None, parent=None):\n",
        "    self.node_type = node_type #function or terminal\n",
        "    self.value = value #for function its actual func, for terminal its the variable name or the int constant\n",
        "    self.successors = successors if successors is not None else [] #list of all the successors\n",
        "    self.children = children if children is not None else [] #list of the children\n",
        "    self.name = name #name of the function\n",
        "    self.parent = parent #parent of the node\n",
        "    self.update_parent()\n",
        "    if node_type == 'function':\n",
        "      self.update_successors()\n",
        "\n",
        "  def update_parent (self):\n",
        "     for child in self.children:\n",
        "        child.parent = self\n",
        "\n",
        " #evaluates the expression represented by the tree - recursive function\n",
        "  def evaluate(self, inputs):\n",
        "    if self.node_type == 'terminal':\n",
        "      if isinstance(self.value, str):  # variable\n",
        "        feature_index = int(self.value[1:])\n",
        "        return inputs[:, feature_index]\n",
        "      else:\n",
        "        return np.full(inputs.shape[0], self.value)\n",
        "    elif self.node_type == 'function':\n",
        "        evaluated_children = [child.evaluate(inputs) for child in self.children]\n",
        "        return self.value(*evaluated_children)\n",
        "    else:\n",
        "      raise ValueError(f\"Invalid node type:{self.node_type}\")\n",
        "\n",
        "  def __str__(self):\n",
        "    return self.output_function()\n",
        "\n",
        "  #deep copy to the node and it's successors\n",
        "  def deep_copy(self):\n",
        "    copied_children = [child.deep_copy() for child in self.children]\n",
        "    copied_node = Node(node_type=self.node_type, value=self.value, children=copied_children, name=self.name, parent=None)\n",
        "    return copied_node\n",
        "\n",
        "  def get_all_nodes(self):\n",
        "    return [self] + self.successors\n",
        "\n",
        "  #get the depth of a tree\n",
        "  def get_depth(self):\n",
        "    if self.node_type == 'terminal':\n",
        "      return 1\n",
        "    else:\n",
        "      return 1 + max(child.get_depth() for child in self.children)\n",
        "\n",
        "\n",
        "  def update_successors(self):\n",
        "    for child in self.children:\n",
        "      self.successors.append(child)\n",
        "      self.successors.extend(child.successors)\n",
        "\n",
        "\n",
        " #returns the formula as the given format\n",
        "  def output_function(self):\n",
        "    if self.node_type == 'terminal':\n",
        "      if isinstance(self.value, str):  # variable\n",
        "        return f\"x[{self.value[1:]}]\"\n",
        "      else:  # constant\n",
        "        return f\"{self.value}\"\n",
        "    elif self.node_type == 'function':\n",
        "      if len(self.children) == 2:  # Binary operation\n",
        "        left = self.children[0].output_function()\n",
        "        right = self.children[1].output_function()\n",
        "        operators_symbols = {'add': '+', 'sub': '-', 'mul': '*'}\n",
        "        operations_np = {'add': 'np.add', 'sub': 'np.subtract', 'mul': 'np.multiply'}\n",
        "        if self.name in operators_symbols:\n",
        "          oper = operators_symbols[self.name]\n",
        "          return f\"({left} {oper} {right})\"\n",
        "        else:\n",
        "          raise ValueError(f\"Unknown binary operation: {self.name}\")\n",
        "\n",
        "      elif len(self.children) == 1:  # Unary operation\n",
        "        operators = {'sin': 'np.sin', 'cos': 'np.cos', 'pow2': 'np.power', 'pow4': 'np.power', 'pow3' : 'np.pow3', 'arctan' : 'np.arctan'}\n",
        "        child = self.children[0].output_function()\n",
        "        if self.name in operators:\n",
        "          oper = operators[self.name]\n",
        "          if self.name == 'pow2':\n",
        "            return f\"{oper}({child}, 2)\"\n",
        "          elif self.name == 'pow3':\n",
        "            return f\"{oper}({child}, 3)\"\n",
        "          elif self.name == 'pow4':\n",
        "            return f\"{oper}({child}, 4)\"\n",
        "          else:\n",
        "            return f\"{oper}({child})\"\n",
        "          return f\"np.{self.value}({child_expr})\"\n",
        "      else:\n",
        "        raise ValueError(f\"Unknown unary operation: {self.name}\")\n",
        "\n"
      ],
      "metadata": {
        "id": "bP8mt3J98nHe"
      },
      "execution_count": 19,
      "outputs": []
    },
    {
      "cell_type": "markdown",
      "source": [
        "## Helper Functions"
      ],
      "metadata": {
        "id": "QNaWv89q6jQC"
      }
    },
    {
      "cell_type": "code",
      "source": [
        "def copy_individual(individual):\n",
        "  copied_tree = individual['tree'].deep_copy()\n",
        "  copied_individual = {'tree': copied_tree, 'fitness': individual['fitness']}\n",
        "  return copied_individual\n",
        "\n",
        "\n",
        "#evaluate the fitness of a tree\n",
        "def evaluate_fitness(individual, x_train, y_train):\n",
        "  tree = individual['tree']\n",
        "  try:\n",
        "    y_predictions = tree.evaluate(x_train) #send all x_train together\n",
        "    if not np.all(np.isfinite(y_predictions)):\n",
        "      #print('go into infinity')\n",
        "      return float('inf')\n",
        "    MSE = np.mean((y_train - y_predictions) ** 2)\n",
        "  except Exception as e:\n",
        "    print(e)\n",
        "    print(\"evaluate_fitness: Error during evaluation\")\n",
        "    return float('inf')\n",
        "  return MSE\n",
        "\n"
      ],
      "metadata": {
        "id": "EEnMS9OW7BMI"
      },
      "execution_count": 20,
      "outputs": []
    },
    {
      "cell_type": "markdown",
      "source": [
        "## Initialization Functions"
      ],
      "metadata": {
        "id": "LOi9cD0k6tbE"
      }
    },
    {
      "cell_type": "code",
      "source": [
        "#all the possible operations\n",
        "def create_operations():\n",
        "  unary_operations = {\n",
        "    'sin': lambda x: np.sin(x),          # sin(a)\n",
        "    'cos': lambda x: np.cos(x),          # cos(a)\n",
        "    'pow2': lambda x: np.power(x,2),      # a^2\n",
        "    'pow4': lambda x: np.power(x,4),      #a^4\n",
        "    'pow3': lambda x: np.power(x,3),      #a^3\n",
        "    'arctan': lambda x: np.arctan(x)      #arctan(x)\n",
        "  }\n",
        "\n",
        "  binary_operations={\n",
        "    'add': lambda x,y: np.add(x,y),          # a + b\n",
        "    'sub': lambda x,y: np.subtract(x,y),     # a - b\n",
        "    'mul': lambda x,y: np.multiply(x,y),     # a * b\n",
        "  }\n",
        "  return binary_operations,unary_operations\n",
        "\n",
        "#create random tree using full method\n",
        "def build_full_tree (initial_depth, current_depth, binary_dict, unary_dict, terminals, file_name, random_num):\n",
        "  if initial_depth == current_depth:\n",
        "    if random.random() < 0.5: #50% it will be variable and 50% it will be random constant number\n",
        "      return Node(node_type='terminal',value=random.sample(list(terminals),1)[0])\n",
        "    else:\n",
        "      return Node(node_type='terminal',value=random.uniform(-random_num, random_num))\n",
        "  else:\n",
        "    oper_type = random.choice(['binary' , 'unary']) #two options\n",
        "    if oper_type == 'binary':\n",
        "      func_name ,function = random.choice(list(binary_dict.items()))\n",
        "      child1 = build_full_tree(initial_depth , current_depth + 1 ,binary_dict ,unary_dict, terminals,file_name, random_num) #two recursive call - operation with two argomants\n",
        "      child2 = build_full_tree(initial_depth , current_depth + 1 ,binary_dict ,unary_dict, terminals,file_name, random_num)\n",
        "      node = Node(node_type='function', value=function, children=[child1,child2], name=func_name)\n",
        "      return node\n",
        "    elif oper_type == 'unary':\n",
        "      func_name ,function = random.choice(list(unary_dict.items()))\n",
        "      child = build_full_tree(initial_depth , current_depth + 1 , binary_dict ,unary_dict ,terminals,file_name, random_num) #one recursive call- operation with one argoment\n",
        "      node = Node(node_type='function', value=function, children=[child], name=func_name)\n",
        "      return node\n",
        "\n",
        "#create random tree using grow method\n",
        "def build_grow_tree(initial_depth, current_depth, binary_dict, unary_dict , terminals, random_num):\n",
        "  if initial_depth == current_depth or random.random() < 0.2: #20% to terminate the tree\n",
        "    if random.random() < 0.5: #50% it will be variable and 50% it will be random constant number\n",
        "      return Node('terminal',random.sample(list(terminals) ,1)[0])\n",
        "    else:\n",
        "      return Node('terminal', random.uniform(-random_num, random_num))\n",
        "  else:\n",
        "    oper_type = random.choice(['binary' , 'unary' , 'terminal']) #three options\n",
        "    if oper_type == 'binary':\n",
        "      func_name ,function = random.choice(list(binary_dict.items()))\n",
        "      child1 = build_grow_tree(initial_depth , current_depth + 1, binary_dict, unary_dict, terminals, random_num) #two recursive call - operation with two argomants\n",
        "      child2 = build_grow_tree(initial_depth , current_depth + 1, binary_dict, unary_dict, terminals, random_num)\n",
        "      node = Node(node_type='function', value=function, children=[child1,child2], name=func_name)\n",
        "      return node\n",
        "    elif oper_type == 'unary':\n",
        "      func_name ,function = random.choice(list(unary_dict.items()))\n",
        "      child = build_grow_tree(initial_depth , current_depth + 1, binary_dict,unary_dict, terminals, random_num) #one recursive call- operation with one argoment\n",
        "      node = Node(node_type='function', value=function, children=[child], name=func_name)\n",
        "      return node\n",
        "    else: #oper_type == 'terminal'\n",
        "      if random.random() < 0.5: #50% it will be variable and 50% it will be random constant number\n",
        "        return Node('terminal', random.sample(list(terminals), 1)[0])\n",
        "      else:\n",
        "        return Node('terminal', random.uniform(-random_num, random_num))\n",
        "\n",
        "#initialize population using ramped half-and-half\n",
        "def initialize_population(population_size, initial_depth, binary, unary, terminals, x_train, y_train, file_name, random_num):\n",
        "  population = []\n",
        "  for i in range(population_size // 2):\n",
        "    tree = build_full_tree(initial_depth,current_depth=0,binary_dict=binary,unary_dict=unary, terminals=terminals, file_name=file_name, random_num=random_num)\n",
        "    individual1 = {'tree': tree, 'fitness': None}\n",
        "    individual1['fitness'] = evaluate_fitness(individual1, x_train, y_train)\n",
        "    population.append(individual1)\n",
        "  for j in range(population_size // 2):\n",
        "    tree = build_grow_tree(initial_depth,current_depth=0,binary_dict=binary,unary_dict=unary, terminals=terminals, random_num=random_num)\n",
        "    individual2 = {'tree': tree, 'fitness': None}\n",
        "    individual2['fitness'] = evaluate_fitness(individual2, x_train, y_train)\n",
        "    population.append(individual2)\n",
        "  return population\n",
        "\n",
        "#get inputs from the given data\n",
        "def get_inputs(file_name):\n",
        "  problem = np.load(file_name)\n",
        "  x_input = problem['x']\n",
        "  print(f\"Num of variables: {x_input.shape[0]}\")\n",
        "  y_input = problem['y']\n",
        "  x_train = np.transpose(x_input)\n",
        "  y_train = np.transpose(y_input)\n",
        "  print(y_train.shape)\n",
        "  return x_train, y_train\n",
        "\n",
        "def build_terminals(x_train):\n",
        "  terminals_set = set()\n",
        "  for i in range(x_train.shape[1]):\n",
        "    terminals_set.add(f'x{i}')\n",
        "  return terminals_set\n",
        "\n"
      ],
      "metadata": {
        "id": "br3E1ilSDs8B"
      },
      "execution_count": 48,
      "outputs": []
    },
    {
      "cell_type": "code",
      "source": [
        "\n",
        "def tournament_selection(population, tournament_size):\n",
        "  select_parents = np.random.choice(len(population), tournament_size, replace=False)\n",
        "  tournament = [population[i] for i in select_parents]\n",
        "  if random.random() < 0.5: #50% choose the shortest, 50% choose the best\n",
        "    tournament.sort(key = lambda individual: individual['tree'].get_depth())\n",
        "  else:\n",
        "    tournament.sort(key = lambda individual: individual['fitness'], reverse=True)\n",
        "  return tournament[0], tournament[1]\n",
        "\n",
        "\n",
        "def crossover(individual1, individual2, max_depth, x_train, y_train):\n",
        "  tree1 = individual1['tree'].deep_copy()\n",
        "  tree2 = individual2['tree'].deep_copy()\n",
        "  all_nodes1 = tree1.get_all_nodes()\n",
        "  all_nodes2 = tree2.get_all_nodes()\n",
        "  subtree1 = random.choice(all_nodes1) #select random points for crossover from the root and the successors\n",
        "  subtree2 = random.choice(all_nodes2)\n",
        "\n",
        "  if subtree1.parent is not None: #if subtree1 is not the root\n",
        "    parent1_depth = subtree1.parent.get_depth()\n",
        "    if parent1_depth + subtree2.get_depth() > max_depth+1: #if the offspring will exceed the max depth dont do crossover\n",
        "      return individual1, individual2\n",
        "\n",
        "  if subtree2.parent is not None: #if subtree2 is not the root\n",
        "    parent2_depth = subtree2.parent.get_depth()\n",
        "    if parent2_depth + subtree1.get_depth() > max_depth+1:\n",
        "      return individual1, individual2\n",
        "\n",
        "  if subtree1.parent is None: #if the first random node is the root\n",
        "    offspring1 = {'tree': subtree1.deep_copy(), 'fitness': None}\n",
        "  else:\n",
        "    parent_subtree1 = subtree1.parent\n",
        "    index1 = parent_subtree1.children.index(subtree1)\n",
        "    new_subtree1 = subtree2.deep_copy()\n",
        "    parent_subtree1.children[index1] = new_subtree1\n",
        "    new_subtree1.parent = parent_subtree1 #ubdae the parent of the new sub\n",
        "    parent_subtree1.update_successors()\n",
        "    offspring1 = {'tree': tree1, 'fitness': None}\n",
        "\n",
        "  if subtree2.parent is None: #if the second random node is the root\n",
        "    offspring2 = {'tree': subtree2.deep_copy(), 'fitness': None} #TODO- think if the node is root and we want to replace it\n",
        "  else:\n",
        "    parent_subtree2 = subtree2.parent\n",
        "    index2 = parent_subtree2.children.index(subtree2)\n",
        "    new_subtree2 = subtree1.deep_copy()\n",
        "    parent_subtree2.children[index2] = new_subtree2\n",
        "    new_subtree2.parent = parent_subtree2\n",
        "    offspring2 = {'tree': tree2, 'fitness': None}\n",
        "    parent_subtree2.update_successors()\n",
        "\n",
        "  offspring1['fitness'] = evaluate_fitness(offspring1, x_train, y_train)\n",
        "  offspring2['fitness'] = evaluate_fitness(offspring2, x_train, y_train)\n",
        "  return offspring1, offspring2\n",
        "\n"
      ],
      "metadata": {
        "id": "zMC9gUF0m6gP"
      },
      "execution_count": 22,
      "outputs": []
    },
    {
      "cell_type": "code",
      "source": [
        "from google.colab import drive\n",
        "drive.mount('/content/drive')"
      ],
      "metadata": {
        "id": "amKOHGizfTZn",
        "outputId": "825e413e-f87e-45ab-ec1f-d161bbd79740",
        "colab": {
          "base_uri": "https://localhost:8080/"
        }
      },
      "execution_count": 7,
      "outputs": [
        {
          "output_type": "stream",
          "name": "stdout",
          "text": [
            "Mounted at /content/drive\n"
          ]
        }
      ]
    },
    {
      "cell_type": "markdown",
      "source": [
        "# Mutations"
      ],
      "metadata": {
        "id": "09DW1jwiyE3K"
      }
    },
    {
      "cell_type": "code",
      "source": [
        "#choose a random node and change it to other operation or other terminal\n",
        "def point_mutation(individual, binary_dict, unary_dict, terminals, x_train, y_train, random_num):\n",
        "  copied_tree = individual['tree'].deep_copy()\n",
        "  random_node = random.choice(copied_tree.get_all_nodes())\n",
        "  if random_node.node_type == 'terminal':\n",
        "    possible_terminals = terminals - {random_node.value}\n",
        "    if len(possible_terminals) == 0 : #the set is empty because there is only one variable\n",
        "      random_node.value = random.uniform(-random_num, random_num) #change the only variable to a costant\n",
        "    else: #the set is not empty\n",
        "      if random.random() < 0.5: #50% it will be variable and 50% it will be random constant number\n",
        "        random_node.value = random.choice(list(possible_terminals))\n",
        "      else:\n",
        "        random_node.value = random.uniform(-random_num, random_num)\n",
        "  elif len(random_node.children) == 2: #operation with two arguments\n",
        "    possible_operations = set(binary_dict) - {random_node.name}\n",
        "    random_node.name = random.choice(list(possible_operations))\n",
        "    random_node.value = binary_dict[random_node.name]\n",
        "  elif len(random_node.children) == 1: #operation with one argument\n",
        "      possible_operations = set(unary_dict) - {random_node.name}\n",
        "      random_node.name = random.choice(list(possible_operations))\n",
        "      random_node.value = unary_dict[random_node.name]\n",
        "\n",
        "  random_node.update_successors()\n",
        "  new_individual = {'tree': copied_tree, 'fitness': None}\n",
        "  new_individual['fitness'] = evaluate_fitness(new_individual, x_train, y_train)\n",
        "  return new_individual\n",
        "\n",
        "#choose a random node and expand it with operation and new random children depends on the operation\n",
        "def expansion_mutation(individual, binary_dict, unary_dict, terminals, x_train, y_train, max_depth, random_num):\n",
        "  if individual['tree'].children == []:\n",
        "    return point_mutation(individual, binary_dict, unary_dict, terminals, x_train, y_train, random_num)\n",
        "  copied_tree = individual['tree'].deep_copy()\n",
        "  leaf_nodes = [node for node in copied_tree.get_all_nodes() if node.node_type == 'terminal'] #choose a random leaf node\n",
        "  random_leaf = random.choice(leaf_nodes)\n",
        "  possible_operations = list(binary_dict) + list(unary_dict)\n",
        "  random_func_name = random.choice(possible_operations)\n",
        "  if random_func_name in binary_dict:\n",
        "    new_func = binary_dict[random_func_name]\n",
        "    arity=2\n",
        "  else:\n",
        "    new_func = unary_dict[random_func_name]\n",
        "    arity=1\n",
        "  new_children = []\n",
        "  for i in range(arity): #create the new children randomly\n",
        "    if random.random() < 0.5:\n",
        "      child= Node(node_type='terminal', value=random.sample(list(terminals),1)[0])\n",
        "    else:\n",
        "      child= Node(node_type='terminal', value=random.uniform(-random_num, random_num))\n",
        "    new_children.append(child)\n",
        "\n",
        "  new_node = Node(node_type='function', value=new_func, children=new_children, name=random_func_name)\n",
        "\n",
        "  parent = random_leaf.parent\n",
        "  index = parent.children.index(random_leaf)\n",
        "  parent.children[index] = new_node #change the random node to the new node\n",
        "\n",
        "  if copied_tree.get_depth() > max_depth:\n",
        "    return point_mutation(individual, binary_dict, unary_dict, terminals, x_train, y_train, random_num)\n",
        "\n",
        "  new_node.parent = parent\n",
        "  new_node.update_successors() #TODO- make sure the parent is updated\n",
        "  new_individual = {'tree': copied_tree, 'fitness': None}\n",
        "  new_individual['fitness'] = evaluate_fitness(new_individual, x_train, y_train)\n",
        "  return new_individual\n"
      ],
      "metadata": {
        "id": "7hXF1wyAj3i-"
      },
      "execution_count": 44,
      "outputs": []
    },
    {
      "cell_type": "markdown",
      "source": [
        "Adjustments"
      ],
      "metadata": {
        "id": "7qUnXu8fpTcl"
      }
    },
    {
      "cell_type": "code",
      "source": [
        "def adjust_rates(best_fitness_history, improvement_bound, xover_prob, mutation_prob, point_prob, elites_rate,\n",
        "                tournament_size, population_size, max_depth, xover_change, mutation_change, elitism_change):\n",
        "\n",
        "    tournament_change = 1\n",
        "    depth_change = 1\n",
        "\n",
        "    improvement = best_fitness_history[0] - best_fitness_history[-1]\n",
        "\n",
        "    if improvement < improvement_bound:  # Encourage exploration\n",
        "        mutation_prob = min(mutation_prob + mutation_change, 0.9)  # upper bound\n",
        "        elites_rate = max(elites_rate - elitism_change, 0.03)      # Lower bound for elitism rate\n",
        "        tournament_size = max(tournament_size - tournament_change, 3)  # Lower bound\n",
        "        max_depth = min(max_depth + depth_change, 8)             # Upper bound\n",
        "        xover_prob = min(xover_prob + xover_change, 0.9)         # Upper bound\n",
        "        point_prob = max(point_prob - 0.02, 0.1)                # Lower bound\n",
        "    else:  # Encourage exploitation\n",
        "        mutation_prob = min(mutation_prob + mutation_change, 0.9)  # Upper bound\n",
        "        elites_rate = min(elites_rate + elitism_change, 0.5)       # Upper bound\n",
        "        tournament_size = min(tournament_size + tournament_change, population_size // 2)  # Prevent exceeding half the population\n",
        "        xover_prob = max(xover_prob - xover_change, 0.01)         # Lower bound\n",
        "        point_prob = min(point_prob + 0.02, 0.9)                 # Upper bound\n",
        "\n",
        "    print(f\"Rates are - Crossover: {xover_prob:.2f}, Mutation: {mutation_prob:.2f}, \"\n",
        "          f\"Point Mutation: {point_prob:.2f}, Elitism: {elites_rate:.2f}, \"\n",
        "          f\"Tournament Size: {tournament_size}, Max Depth: {max_depth}\")\n",
        "\n",
        "    return max_depth, xover_prob, mutation_prob, point_prob, elites_rate, tournament_size\n"
      ],
      "metadata": {
        "id": "nkkQJhyu7nku"
      },
      "execution_count": 45,
      "outputs": []
    },
    {
      "cell_type": "markdown",
      "source": [
        "## Main Algorithm"
      ],
      "metadata": {
        "id": "OXuAIvVt7TVV"
      }
    },
    {
      "cell_type": "code",
      "source": [
        "def evolution_step(population, xover_prob, mutation_prob, point_prob, tournament_size, generations, elites_rate, population_size,\n",
        "                   binary, unary, terminals_set, max_depth, adjust_window, improvement_limit, epsilon, x_train, y_train, xover_change,\n",
        "                   mutation_change,elitism_change, random_num):\n",
        "\n",
        "  best_fitness_history = []\n",
        "\n",
        "  for generation in range(generations):\n",
        "    new_population = []\n",
        "    sorted_population = sorted(population, key=lambda Individual: Individual['fitness'])\n",
        "    min_fitness = sorted_population[0]['fitness']\n",
        "\n",
        "    if min_fitness <= epsilon: #if the approximation is very close, end the loop and return the best\n",
        "      break\n",
        "\n",
        "    best_fitness_history.append(min_fitness)\n",
        "    if len(best_fitness_history) > adjust_window:\n",
        "      best_fitness_history.pop(0)  # Maintain the window\n",
        "\n",
        "    if (generation - 1) % 100 == 0:\n",
        "      print(f\"\\nGeneration {generation-1}:\")\n",
        "      print(f\"\\nMin MSE = {min_fitness}\")\n",
        "      print(sorted_population[0]['tree'].get_depth())\n",
        "\n",
        "    if (generation - 1) % 10 == 0:\n",
        "      print(sorted_population[0]['tree'].output_function())\n",
        "\n",
        "    elites = sorted_population[:int(elites_rate * population_size)] #add the elites_rate of the population to the new population\n",
        "    new_population.extend([copy_individual(elite) for elite in elites])\n",
        "\n",
        "\n",
        "    while len(new_population) < len(population): #create the rest of the population\n",
        "      parent1, parent2 = tournament_selection(population, tournament_size) #select the parents\n",
        "      if random.random() < xover_prob:\n",
        "        offspring1, offspring2 = crossover(parent1, parent2, max_depth, x_train, y_train)\n",
        "      else:\n",
        "        offspring1, offspring2 = copy_individual(parent1), copy_individual(parent2)\n",
        "\n",
        "      if random.random() < mutation_prob: #mutate offspring1\n",
        "        if random.random() < point_prob:\n",
        "          offspring1 = point_mutation(offspring1, binary, unary, terminals_set, x_train, y_train, random_num)\n",
        "        else:\n",
        "          offspring1 = expansion_mutation(offspring1, binary, unary, terminals_set, x_train, y_train, max_depth, random_num)\n",
        "\n",
        "      if random.random() < mutation_prob: #mutate offspring2\n",
        "        if random.random() < point_prob:\n",
        "          offspring2 = point_mutation(offspring2, binary, unary, terminals_set, x_train, y_train, random_num)\n",
        "        else:\n",
        "          offspring2 = expansion_mutation(offspring2, binary, unary, terminals_set, x_train, y_train, max_depth, random_num)\n",
        "\n",
        "      new_population.append(offspring1)\n",
        "      new_population.append(offspring2)\n",
        "\n",
        "    population = new_population\n",
        "\n",
        "    #every adjust_window generations, change the rates accord the improvement\n",
        "    if (generation - 1) % adjust_window == 0:\n",
        "      max_depth, xover_prob, mutation_prob,point_prob, elites_rate, tournament_size = adjust_rates(best_fitness_history, improvement_limit, xover_prob, mutation_prob,point_prob, elites_rate, tournament_size, population_size, max_depth, xover_change, mutation_change,elitism_change)\n",
        "\n",
        "  best_individual = min(population, key=lambda ind: ind['fitness'])\n",
        "  return population, best_individual, best_fitness_history"
      ],
      "metadata": {
        "id": "nPhidY514Dqx"
      },
      "execution_count": 52,
      "outputs": []
    },
    {
      "cell_type": "code",
      "source": [
        "%cd /content/drive/MyDrive"
      ],
      "metadata": {
        "id": "V-NO8PbLINjC",
        "colab": {
          "base_uri": "https://localhost:8080/"
        },
        "outputId": "7a84d9fa-0f1e-4b63-90b1-2fc72536d8b1"
      },
      "execution_count": 12,
      "outputs": [
        {
          "output_type": "stream",
          "name": "stdout",
          "text": [
            "/content/drive/MyDrive\n"
          ]
        }
      ]
    },
    {
      "cell_type": "markdown",
      "source": [
        "operate the main algorithm"
      ],
      "metadata": {
        "id": "4lwuKNaFUzPH"
      }
    },
    {
      "cell_type": "code",
      "source": [
        "def initialize(file_name, generations, population_size, adjust_window, max_depth, initial_depth, elites_rate, tournament_size, xover_prob,\n",
        "               mutation_prob,point_prob, improvement_limit, xover_change, mutation_change,elitism_change, random_num):\n",
        "  binary, unary  = create_operations()\n",
        "  x_train, y_train = get_inputs(file_name)\n",
        "  terminals_set = build_terminals(x_train)\n",
        "  epsilon = 1e-40\n",
        "  population = initialize_population(population_size, initial_depth, binary, unary, terminals_set, x_train, y_train, file_name, random_num)\n",
        "  population_n , best, history = evolution_step(population, xover_prob, mutation_prob, point_prob, tournament_size, generations, elites_rate, population_size, binary, unary, terminals_set, max_depth, adjust_window, improvement_limit, epsilon, x_train, y_train, xover_change, mutation_change,elitism_change, random_num)\n",
        "  return population_n , best, history\n",
        "\n",
        "\n"
      ],
      "metadata": {
        "id": "PCTg4IzA0Zai",
        "collapsed": true
      },
      "execution_count": 47,
      "outputs": []
    },
    {
      "cell_type": "markdown",
      "source": [
        "# case 1"
      ],
      "metadata": {
        "id": "b_KpG0wpXlyF"
      }
    },
    {
      "cell_type": "code",
      "source": [
        "population , best, history = initialize(file_name = 'problem_1.npz', generations = 1000, population_size = 100, adjust_window = 100, max_depth = 6,\n",
        "                      initial_depth = 3, elites_rate = 0.05, tournament_size = 10, xover_prob = 0.7, mutation_prob = 0.1, improvement_limit=1e-6,\n",
        "                      xover_change, mutation_change,elitism_change, random_num=10)\n",
        "\n",
        "print(f\"func1:{best['tree'].output_function()}\")\n",
        "print(f\"MSE BEST: {best['fitness']}\")\n",
        "\n",
        "#func1: np.sin(x[0])\n",
        "#MSE BEST: 3.921193366772412e-34"
      ],
      "metadata": {
        "id": "RzJkby8nXfIQ",
        "collapsed": true
      },
      "execution_count": null,
      "outputs": []
    },
    {
      "cell_type": "markdown",
      "source": [
        "# case 2"
      ],
      "metadata": {
        "id": "anbipENIbcYX"
      }
    },
    {
      "cell_type": "code",
      "source": [
        "population , best, history = initialize(file_name= 'problem_2.npz', generations =10000, population_size = 300, adjust_window = 1000, max_depth = 4,\n",
        "                      initial_depth = 3, elites_rate = 0.05, tournament_size = 8, xover_prob = 0.8, mutation_prob = 0.3, point_prob=0.1,\n",
        "                      improvement_limit=1000, xover_change=0.02, mutation_change=0.02, elitism_change=0.02, random_num=10)\n",
        "\n",
        "print(f\"func2: {best['tree'].output_function()}\")\n",
        "print(f\"MSE: {best['fitness']}\")\n",
        "\n",
        "#func2: ((np.power(-32.49387304054636, 4) * x[0]) + (x[2] + (np.power((((x[0] * x[2]) + ((x[0] * x[2]) + ((x[0] * x[2]) + -96.46096667075665))) * -6.310140402151248), 2) * x[1])))\n",
        "#MSE: 16636405072324.762\n",
        "\n",
        "\n",
        "#func2: (np.power(-35.77865211740968, 4) * (np.cos(((x[1] + x[2]) * (0.049825662719513275 * x[0]))) * x[0]))\n",
        "#MSE: 14712336223303.713\n"
      ],
      "metadata": {
        "collapsed": true,
        "id": "B33UBraZbjcB"
      },
      "execution_count": null,
      "outputs": []
    },
    {
      "cell_type": "markdown",
      "source": [
        "# case 3"
      ],
      "metadata": {
        "id": "ccfR0G_Rb1m2"
      }
    },
    {
      "cell_type": "code",
      "source": [
        "population , best, history = initialize(file_name = 'problem_3.npz', generations = 10000, population_size = 200, adjust_window = 50, max_depth = 6,\n",
        "                      initial_depth = 3, elites_rate = 0.05, tournament_size = 8, xover_prob = 0.8, mutation_prob = 0.1, point_prob=0.2,\n",
        "                      improvement_limit= 0.1, xover_change=0.05, mutation_change=0.02, elitism_change=0.02, random_num=10)\n",
        "\n",
        "print(f\"func3: {best['tree'].output_function()}\")\n",
        "print(f\"MSE: {best['fitness']}\")\n",
        "\n",
        "#func3: ((np.power((x[2] + (-0.15334261790093606 + -1.3457410645123407)), 2) + np.power((-1.1840450316899656 * x[0]), 2)) + ((x[2] - (np.power(x[1], 2) + x[2])) * x[1]))\n",
        "#MSE: 79.44187676029182\n",
        "\n",
        "\n",
        "#func3: ((np.power(x[0], 2) + np.power((-1.1840450316899656 * x[0]), 2)) + ((x[2] - (np.power(x[1], 2) + x[2])) * x[1]))\n",
        "#MSE: 110.36941364068991\n",
        "\n",
        "#xover_prob=0.6, mutation_prob=0.9, point_prob=0.5, tournament_size=10,\n",
        "          #                      generations=10000, elites_rate=0.05, population_size=len(population), binary=binary, unary=unary,\n",
        "           #                     terminals_set=terminals_set, max_depth=6, adjust_window=100, improvement_limit=10, epsilon=0.000001,\n",
        "            #                    x_train=x_train, y_train=y_train, xover_change=0.002, mutation_change=0.002,elitism_change=0.02, random_num=10\n",
        "\n",
        "\n"
      ],
      "metadata": {
        "collapsed": true,
        "id": "lp-QvZQ8bmxI"
      },
      "execution_count": null,
      "outputs": []
    },
    {
      "cell_type": "markdown",
      "source": [
        "# case 4"
      ],
      "metadata": {
        "id": "icwSU8XSb3lx"
      }
    },
    {
      "cell_type": "code",
      "source": [
        "\n",
        "population , best, history = initialize(file_name= 'problem_4.npz', generations = 2000, population_size = 300, adjust_window = 50, max_depth = 6,\n",
        "                      initial_depth = 3, elites_rate = 0.05, tournament_size = 8, xover_prob = 0.75, mutation_prob = 0.2, improvement_limit=0.001,\n",
        "                      xover_change=0.005, mutation_change=0.002, elitism_change=0.02, random_num=10)\n",
        "\n",
        "func4 = best['tree'].output_function()\n",
        "print(f\"MSE: {best['fitness']}\")\n",
        "print(history)\n",
        "\n",
        "#((np.cos(x[1]) * 3.167794160296859) + ((np.cos(x[1]) * 3.167794160296859) + 2.6422928296213577))\n",
        "#MSE: 0.5261675540967335\n",
        "#generations = 2000, population_size = 300, adjust_window = 50, max_depth = 6,\n",
        "                   #   initial_depth = 3, elites_rate = 0.05, tournament_size = 8, xover_prob = 0.75, mutation_prob = 0.2, improvement_limit=0.001,\n",
        "                    #                    xover_change=0.005, mutation_change=0.002, elitism_change=0.02\n"
      ],
      "metadata": {
        "collapsed": true,
        "id": "3h2j3pJZbmoH"
      },
      "execution_count": null,
      "outputs": []
    },
    {
      "cell_type": "markdown",
      "source": [
        "# case 5"
      ],
      "metadata": {
        "id": "0_d9CNpPb5Er"
      }
    },
    {
      "cell_type": "code",
      "source": [
        "\n",
        "population , best, history = initialize(file_name= 'problem_5.npz', generations = 1000, population_size = 100, adjust_window = 100, max_depth = 6,\n",
        "                      initial_depth = 3, elites_rate = 0.05, tournament_size = 5, xover_prob = 0.3, mutation_prob = 0.99,point_prob=0.9,\n",
        "                      improvement_limit=1e-10, xover_change=0.05, mutation_change=0.02, elitism_change=0.02, random_num=100)\n",
        "\n",
        "print(f\"func5: {best['tree'].output_function()}\")\n",
        "print(f\"MSE: {best['fitness']}\")\n",
        "\n",
        "\n",
        "#func5: (x[1] - x[1])\n",
        "#MSE: 5.572810232617333e-18\n"
      ],
      "metadata": {
        "id": "Xg3xCm9tbmWc",
        "collapsed": true
      },
      "execution_count": null,
      "outputs": []
    },
    {
      "cell_type": "markdown",
      "source": [
        "# case 6"
      ],
      "metadata": {
        "id": "PhUN8tXAb67K"
      }
    },
    {
      "cell_type": "code",
      "source": [
        "\n",
        "population , best, history = initialize(file_name= 'problem_6.npz', generations =100000, population_size = 100, adjust_window = 1000, max_depth = 4,\n",
        "                      initial_depth = 3, elites_rate = 0.05, tournament_size = 5, xover_prob = 0.7, mutation_prob = 0.4 ,point_prob=0.3,\n",
        "                      improvement_limit=0.01,xover_change=0.05, mutation_change=0.05, elitism_change=0.02, random_num=10)\n",
        "print(f\"func6: {best['tree'].output_function()}\")\n",
        "print(f\"MSE: {best['fitness']}\")\n",
        "\n",
        "#func6: (x[1] - (x[0] - (0.7357051974547986 + x[1])))\n",
        "#MSE: 0.786963173633151\n",
        "#generations =10000, population_size = 100, adjust_window = 100, max_depth = 3,\n",
        "                    #  initial_depth = 3, elites_rate = 0.05, tournament_size = 5, xover_prob = 0.7, mutation_prob = 0.4 ,point_prob=0.3,\n",
        "                     # improvement_limit=0.01,xover_change=0.05, mutation_change=0.05, elitism_change=0.02\n",
        "\n",
        "#func6: ((-0.585796320561327 * x[0]) + (x[1] + x[1]))\n",
        "#MSE: 0.5208720349731156\n",
        "\n",
        "#generations =100000, population_size = 100, adjust_window = 1000, max_depth = 4,\n",
        " #                     initial_depth = 3, elites_rate = 0.05, tournament_size = 5, xover_prob = 0.7, mutation_prob = 0.4 ,point_prob=0.3,\n",
        "  #                    improvement_limit=0.01,xover_change=0.05, mutation_change=0.05, elitism_change=0.02"
      ],
      "metadata": {
        "id": "Bp11ndnkbqpE",
        "collapsed": true
      },
      "execution_count": null,
      "outputs": []
    },
    {
      "cell_type": "markdown",
      "source": [
        "# case 7"
      ],
      "metadata": {
        "id": "S0Eww36hb9OO"
      }
    },
    {
      "cell_type": "code",
      "source": [
        "\n",
        "population , best, history = initialize(file_name= 'problem_7.npz', generations = 10000, population_size = 300, adjust_window = 500, max_depth = 5,\n",
        "                      initial_depth = 3, elites_rate = 0.05, tournament_size = 8, xover_prob = 0.8, mutation_prob = 0.3, point_prob=0.3,\n",
        "                      improvement_limit=0.001,xover_change=0.02, mutation_change=0.05, elitism_change=0.02, random_num=1000)\n",
        "print(f\"func7: {best['tree'].output_function()}\")\n",
        "print(f\"MSE: {best['fitness']}\")\n",
        "\n",
        "#func7: np.power(((x[1] * (x[0] * (x[1] + x[0]))) * np.sin(x[0])), 2)\n",
        "#MSE: 356.2540440349073\n",
        "\n",
        "\n",
        "#func7: (np.cos((x[0] + np.power(x[1], 2))) + (np.power((x[0] + x[1]), 4) * np.cos(np.cos((x[0] + x[1])))))\n",
        "#MSE: 373.50928642741917\n"
      ],
      "metadata": {
        "id": "IBckE5bLbsPM",
        "collapsed": true
      },
      "execution_count": null,
      "outputs": []
    },
    {
      "cell_type": "markdown",
      "source": [
        "# case 8"
      ],
      "metadata": {
        "id": "7x4JYMheb_jT"
      }
    },
    {
      "cell_type": "code",
      "source": [
        "population , best, history = initialize(file_name= 'problem_8.npz', generations = 1000, population_size = 100, adjust_window = 100, max_depth = 8,\n",
        "                      initial_depth = 3, elites_rate = 0.05, tournament_size = 10, xover_prob = 0.7, mutation_prob = 0.1, point_prob=0.3,\n",
        "                      improvement_limit=0.001,xover_change=0.02, mutation_change=0.05, elitism_change=0.02, random_num=1000)\n",
        "print(f\"func8: {best['tree'].output_function()}\")\n",
        "print(f\"MSE: {best['fitness']}\")\n",
        "\n",
        "#func8: np.power((np.cos((np.power(np.arctan(x[5]), 3) + -5.240068819211974)) + (4.647572411669573 * x[5])), 3)\n",
        "\n",
        "\n"
      ],
      "metadata": {
        "id": "5EHzC9jDbthk",
        "collapsed": true
      },
      "execution_count": null,
      "outputs": []
    },
    {
      "cell_type": "code",
      "source": [
        "def f1(x: np.ndarray) -> np.ndarray:\n",
        "  return np.sin(x[0])\n",
        "\n",
        "\n",
        "def f2(x: np.ndarray) -> np.ndarray:\n",
        "  return (np.power(-35.77865211740968, 4) * (np.cos(((x[1] + x[2]) * (0.049825662719513275 * x[0]))) * x[0]))\n",
        "\n",
        "\n",
        "def f3(x: np.ndarray) -> np.ndarray:\n",
        "  return ((np.power((x[2] + (-0.15334261790093606 + -1.3457410645123407)), 2) + np.power((-1.1840450316899656 * x[0]), 2)) + ((x[2] - (np.power(x[1], 2) + x[2])) * x[1]))\n",
        "\n",
        "\n",
        "def f4(x: np.ndarray) -> np.ndarray:\n",
        "  return ((np.cos(x[1]) * 3.167794160296859) + ((np.cos(x[1]) * 3.167794160296859) + 2.6422928296213577))\n",
        "\n",
        "\n",
        "def f5(x: np.ndarray) -> np.ndarray:\n",
        "  return (x[1] - x[1])\n",
        "\n",
        "\n",
        "def f6(x: np.ndarray) -> np.ndarray:\n",
        "  return ((-0.585796320561327 * x[0]) + (x[1] + x[1]))\n",
        "\n",
        "\n",
        "def f7(x: np.ndarray) -> np.ndarray:\n",
        "  return np.power(((x[1] * (x[0] * (x[1] + x[0]))) * np.sin(x[0])), 2)\n",
        "\n",
        "\n",
        "def f8(x: np.ndarray) -> np.ndarray:\n",
        "  return np.power((np.cos((np.power(np.arctan(x[5]), 3) + -5.240068819211974)) + (4.647572411669573 * x[5])), 3)\n",
        "\n"
      ],
      "metadata": {
        "id": "2iMpBgqxdDxS"
      },
      "execution_count": 55,
      "outputs": []
    }
  ]
}
